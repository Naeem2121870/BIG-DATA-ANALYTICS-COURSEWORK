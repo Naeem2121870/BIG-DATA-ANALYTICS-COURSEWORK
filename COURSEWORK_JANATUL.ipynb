{
  "nbformat": 4,
  "nbformat_minor": 0,
  "metadata": {
    "colab": {
      "provenance": [],
      "authorship_tag": "ABX9TyMj3T9IPZQiU0dvC2oxbXC8",
      "include_colab_link": true
    },
    "kernelspec": {
      "name": "python3",
      "display_name": "Python 3"
    },
    "language_info": {
      "name": "python"
    }
  },
  "cells": [
    {
      "cell_type": "markdown",
      "metadata": {
        "id": "view-in-github",
        "colab_type": "text"
      },
      "source": [
        "<a href=\"https://colab.research.google.com/github/Naeem2121870/BIG-DATA-ANALYTICS-COURSEWORK/blob/main/COURSEWORK_JANATUL.ipynb\" target=\"_parent\"><img src=\"https://colab.research.google.com/assets/colab-badge.svg\" alt=\"Open In Colab\"/></a>"
      ]
    },
    {
      "cell_type": "markdown",
      "source": [
        "# **THIS IS THE COURSEWORK OF JANATUL ABOUT -- BREST CANCER**"
      ],
      "metadata": {
        "id": "u_q5eg51xaeo"
      }
    },
    {
      "cell_type": "markdown",
      "source": [
        "# **1 Research & Data Exploration**"
      ],
      "metadata": {
        "id": "GzpV8h-doUi0"
      }
    },
    {
      "cell_type": "markdown",
      "source": [
        "**1.1 Dataset**"
      ],
      "metadata": {
        "id": "AiV2M4aKttDI"
      }
    },
    {
      "cell_type": "markdown",
      "source": [
        "1.1\tDataset\n",
        "The name of the dataset I choose is: “ Breast Cancer Wisconsin (Original) ”.\n",
        "\n",
        "The time when I was downloaded the dataset is: ‎Thursday, ‎October ‎12, ‎2023, ‏‎12:07:50 AM.\n",
        "\n",
        "Breast cancer is a major threat to public health. Because of Working with breast cancer data permits us to contribute to the understanding and treatment of this disease, perhaps improving patient outcomes.\n"
      ],
      "metadata": {
        "id": "UpzWaC2owzs1"
      }
    },
    {
      "cell_type": "markdown",
      "source": [
        "# **1.2 Related Work & Data Exploration**"
      ],
      "metadata": {
        "id": "BgEKwRRxzFS-"
      }
    },
    {
      "cell_type": "markdown",
      "source": [
        "1. Dataset Overview:\n",
        "2. Objectives:\n",
        "3. Peer-Reviewed paper:\n",
        "4. Data Exploration:\n"
      ],
      "metadata": {
        "id": "LLoMIU-NzeP0"
      }
    },
    {
      "cell_type": "markdown",
      "source": [
        "# **1.3 Data Pre-processing**"
      ],
      "metadata": {
        "id": "mebdp4Jw0ccW"
      }
    },
    {
      "cell_type": "markdown",
      "source": [
        "Import basic dependencies"
      ],
      "metadata": {
        "id": "cpibD41-1SiL"
      }
    },
    {
      "cell_type": "code",
      "source": [
        "import numpy as np  # For numerical operations\n",
        "import pandas as pd  # For data manipulation and analysis\n",
        "import matplotlib.pyplot as plt  # For data visualization"
      ],
      "metadata": {
        "id": "swRVdXvI1pKH"
      },
      "execution_count": null,
      "outputs": []
    },
    {
      "cell_type": "markdown",
      "source": [
        "Get uci ml repo dependency"
      ],
      "metadata": {
        "id": "EgIuUblR20R-"
      }
    },
    {
      "cell_type": "code",
      "source": [
        "!pip install  ucimlrepo"
      ],
      "metadata": {
        "colab": {
          "base_uri": "https://localhost:8080/"
        },
        "id": "t7wANJWv7dJ6",
        "outputId": "13ed6669-57cb-4290-f594-42d4f5608fa3"
      },
      "execution_count": null,
      "outputs": [
        {
          "output_type": "stream",
          "name": "stdout",
          "text": [
            "Requirement already satisfied: ucimlrepo in /usr/local/lib/python3.10/dist-packages (0.0.2)\n"
          ]
        }
      ]
    },
    {
      "cell_type": "markdown",
      "source": [
        "Output Feature"
      ],
      "metadata": {
        "id": "SuD5R69P26T7"
      }
    },
    {
      "cell_type": "code",
      "source": [
        "from ucimlrepo import fetch_ucirepo\n",
        "\n",
        "#fetch dataset\n",
        "breast = fetch_ucirepo(id=15)\n",
        "\n",
        "#data (as pandas dataframes)\n",
        "X = breast.data.features\n",
        "y= breast.data.targets\n",
        "\n",
        "#metadata\n",
        "print(breast.metadata)\n",
        "\n",
        "#variabel infoermation\n",
        "print(breast.variables)"
      ],
      "metadata": {
        "id": "Jw48rIsb5Mf7",
        "colab": {
          "base_uri": "https://localhost:8080/",
          "height": 383
        },
        "outputId": "762fc6c7-20c8-4897-e7f1-243e33d06dbd"
      },
      "execution_count": null,
      "outputs": [
        {
          "output_type": "error",
          "ename": "ModuleNotFoundError",
          "evalue": "ignored",
          "traceback": [
            "\u001b[0;31m---------------------------------------------------------------------------\u001b[0m",
            "\u001b[0;31mModuleNotFoundError\u001b[0m                       Traceback (most recent call last)",
            "\u001b[0;32m<ipython-input-1-7e9bb0489d90>\u001b[0m in \u001b[0;36m<cell line: 1>\u001b[0;34m()\u001b[0m\n\u001b[0;32m----> 1\u001b[0;31m \u001b[0;32mfrom\u001b[0m \u001b[0mucimlrepo\u001b[0m \u001b[0;32mimport\u001b[0m \u001b[0mfetch_ucirepo\u001b[0m\u001b[0;34m\u001b[0m\u001b[0;34m\u001b[0m\u001b[0m\n\u001b[0m\u001b[1;32m      2\u001b[0m \u001b[0;34m\u001b[0m\u001b[0m\n\u001b[1;32m      3\u001b[0m \u001b[0;31m#fetch dataset\u001b[0m\u001b[0;34m\u001b[0m\u001b[0;34m\u001b[0m\u001b[0m\n\u001b[1;32m      4\u001b[0m \u001b[0mbreast\u001b[0m \u001b[0;34m=\u001b[0m \u001b[0mfetch_ucirepo\u001b[0m\u001b[0;34m(\u001b[0m\u001b[0mid\u001b[0m\u001b[0;34m=\u001b[0m\u001b[0;36m15\u001b[0m\u001b[0;34m)\u001b[0m\u001b[0;34m\u001b[0m\u001b[0;34m\u001b[0m\u001b[0m\n\u001b[1;32m      5\u001b[0m \u001b[0;34m\u001b[0m\u001b[0m\n",
            "\u001b[0;31mModuleNotFoundError\u001b[0m: No module named 'ucimlrepo'",
            "",
            "\u001b[0;31m---------------------------------------------------------------------------\u001b[0;32m\nNOTE: If your import is failing due to a missing package, you can\nmanually install dependencies using either !pip or !apt.\n\nTo view examples of installing some common dependencies, click the\n\"Open Examples\" button below.\n\u001b[0;31m---------------------------------------------------------------------------\u001b[0m\n"
          ],
          "errorDetails": {
            "actions": [
              {
                "action": "open_url",
                "actionText": "Open Examples",
                "url": "/notebooks/snippets/importing_libraries.ipynb"
              }
            ]
          }
        }
      ]
    }
  ]
}